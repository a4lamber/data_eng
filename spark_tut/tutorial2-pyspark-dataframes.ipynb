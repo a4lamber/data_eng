{
 "cells": [
  {
   "cell_type": "markdown",
   "metadata": {},
   "source": [
    "In this video, we will cover\n",
    "- pyspark\n",
    "- reading the dataset\n",
    "- checking the datatypes of the column (schema)\n",
    "- selecting columns and indexing\n",
    "- check describe similar to pandas\n",
    "- adding columns\n",
    "- dropping columns\n",
    "- renaming columns"
   ]
  },
  {
   "cell_type": "code",
   "execution_count": 1,
   "metadata": {},
   "outputs": [],
   "source": [
    "from pyspark.sql import SparkSession"
   ]
  },
  {
   "cell_type": "code",
   "execution_count": 3,
   "metadata": {},
   "outputs": [
    {
     "data": {
      "text/html": [
       "\n",
       "            <div>\n",
       "                <p><b>SparkSession - in-memory</b></p>\n",
       "                \n",
       "        <div>\n",
       "            <p><b>SparkContext</b></p>\n",
       "\n",
       "            <p><a href=\"http://192.168.2.205:4040\">Spark UI</a></p>\n",
       "\n",
       "            <dl>\n",
       "              <dt>Version</dt>\n",
       "                <dd><code>v3.1.2</code></dd>\n",
       "              <dt>Master</dt>\n",
       "                <dd><code>local[*]</code></dd>\n",
       "              <dt>AppName</dt>\n",
       "                <dd><code>Dataframe</code></dd>\n",
       "            </dl>\n",
       "        </div>\n",
       "        \n",
       "            </div>\n",
       "        "
      ],
      "text/plain": [
       "<pyspark.sql.session.SparkSession at 0x7fa7796e2710>"
      ]
     },
     "execution_count": 3,
     "metadata": {},
     "output_type": "execute_result"
    }
   ],
   "source": [
    "# one master node if u r running local, 之后可以试着连接一下Azure\n",
    "spark = SparkSession.builder.appName('Dataframe').getOrCreate()\n",
    "spark"
   ]
  },
  {
   "cell_type": "code",
   "execution_count": 9,
   "metadata": {},
   "outputs": [
    {
     "name": "stdout",
     "output_type": "stream",
     "text": [
      "+--------------+-----------+--------+\n",
      "|Account_number|Postal_Code|Province|\n",
      "+--------------+-----------+--------+\n",
      "|        283285|     M2N2A2|      ON|\n",
      "|        973525|     V5A4A6|      BC|\n",
      "|        736823|     B6N8M3|      NS|\n",
      "|        160186|     T1K4X5|      AB|\n",
      "|        384623|     L6A3C5|      ON|\n",
      "|        164623|     A1A2B2|      NL|\n",
      "|        864302|     K1A4V5|      ON|\n",
      "|        321247|     V1A9J2|      BC|\n",
      "|        459804|     T6W4B4|      AB|\n",
      "+--------------+-----------+--------+\n",
      "\n"
     ]
    }
   ],
   "source": [
    "## read the dataset\n",
    "df_pyspark = spark.read.option('header','true').csv('customer_contact_info.csv',inferSchema=True)\n",
    "df_pyspark.show()"
   ]
  },
  {
   "cell_type": "code",
   "execution_count": 10,
   "metadata": {},
   "outputs": [
    {
     "name": "stdout",
     "output_type": "stream",
     "text": [
      "root\n",
      " |-- Account_number: integer (nullable = true)\n",
      " |-- Postal_Code: string (nullable = true)\n",
      " |-- Province: string (nullable = true)\n",
      "\n"
     ]
    }
   ],
   "source": [
    "### Check the schema (和df.info一样)\n",
    "df_pyspark.printSchema()"
   ]
  },
  {
   "cell_type": "code",
   "execution_count": 14,
   "metadata": {},
   "outputs": [
    {
     "data": {
      "text/plain": [
       "[Row(Account_number=283285, Postal_Code='M2N2A2', Province='ON'),\n",
       " Row(Account_number=973525, Postal_Code='V5A4A6', Province='BC'),\n",
       " Row(Account_number=736823, Postal_Code='B6N8M3', Province='NS')]"
      ]
     },
     "execution_count": 14,
     "metadata": {},
     "output_type": "execute_result"
    }
   ],
   "source": [
    "df_pyspark.head(3)"
   ]
  },
  {
   "cell_type": "code",
   "execution_count": 15,
   "metadata": {},
   "outputs": [
    {
     "name": "stdout",
     "output_type": "stream",
     "text": [
      "+--------------+-----------+--------+\n",
      "|Account_number|Postal_Code|Province|\n",
      "+--------------+-----------+--------+\n",
      "|        283285|     M2N2A2|      ON|\n",
      "|        973525|     V5A4A6|      BC|\n",
      "|        736823|     B6N8M3|      NS|\n",
      "|        160186|     T1K4X5|      AB|\n",
      "|        384623|     L6A3C5|      ON|\n",
      "|        164623|     A1A2B2|      NL|\n",
      "|        864302|     K1A4V5|      ON|\n",
      "|        321247|     V1A9J2|      BC|\n",
      "|        459804|     T6W4B4|      AB|\n",
      "+--------------+-----------+--------+\n",
      "\n"
     ]
    }
   ],
   "source": [
    "df_pyspark.show()"
   ]
  },
  {
   "cell_type": "code",
   "execution_count": 17,
   "metadata": {},
   "outputs": [
    {
     "data": {
      "text/plain": [
       "DataFrame[Account_number: int]"
      ]
     },
     "execution_count": 17,
     "metadata": {},
     "output_type": "execute_result"
    }
   ],
   "source": [
    "# pick up one oclumn\n",
    "df_pyspark.select('Account_number')"
   ]
  },
  {
   "cell_type": "code",
   "execution_count": 19,
   "metadata": {},
   "outputs": [
    {
     "name": "stdout",
     "output_type": "stream",
     "text": [
      "+--------------+--------+\n",
      "|Account_number|Province|\n",
      "+--------------+--------+\n",
      "|        283285|      ON|\n",
      "|        973525|      BC|\n",
      "|        736823|      NS|\n",
      "|        160186|      AB|\n",
      "|        384623|      ON|\n",
      "|        164623|      NL|\n",
      "|        864302|      ON|\n",
      "|        321247|      BC|\n",
      "|        459804|      AB|\n",
      "+--------------+--------+\n",
      "\n"
     ]
    }
   ],
   "source": [
    "# pick up one oclumn\n",
    "df_pyspark.select(['Account_number','Province']).show()"
   ]
  },
  {
   "cell_type": "markdown",
   "metadata": {},
   "source": [
    "注意和pandas的区别 df['Province'] in pandas"
   ]
  },
  {
   "cell_type": "code",
   "execution_count": 20,
   "metadata": {},
   "outputs": [
    {
     "name": "stderr",
     "output_type": "stream",
     "text": [
      "                                                                                \r"
     ]
    },
    {
     "name": "stdout",
     "output_type": "stream",
     "text": [
      "+-------+------------------+-----------+--------+\n",
      "|summary|    Account_number|Postal_Code|Province|\n",
      "+-------+------------------+-----------+--------+\n",
      "|  count|                 9|          9|       9|\n",
      "|   mean|483157.55555555556|       null|    null|\n",
      "| stddev|302545.63255983015|       null|    null|\n",
      "|    min|            160186|     A1A2B2|      AB|\n",
      "|    max|            973525|     V5A4A6|      ON|\n",
      "+-------+------------------+-----------+--------+\n",
      "\n"
     ]
    }
   ],
   "source": [
    "df_pyspark.describe().show()"
   ]
  },
  {
   "cell_type": "code",
   "execution_count": 26,
   "metadata": {},
   "outputs": [
    {
     "name": "stdout",
     "output_type": "stream",
     "text": [
      "+--------------+-----------+--------+-------+\n",
      "|Account_number|Postal_Code|Province|Balance|\n",
      "+--------------+-----------+--------+-------+\n",
      "|        283285|     M2N2A2|      ON|2832.85|\n",
      "|        973525|     V5A4A6|      BC|9735.25|\n",
      "|        736823|     B6N8M3|      NS|7368.23|\n",
      "|        160186|     T1K4X5|      AB|1601.86|\n",
      "|        384623|     L6A3C5|      ON|3846.23|\n",
      "|        164623|     A1A2B2|      NL|1646.23|\n",
      "|        864302|     K1A4V5|      ON|8643.02|\n",
      "|        321247|     V1A9J2|      BC|3212.47|\n",
      "|        459804|     T6W4B4|      AB|4598.04|\n",
      "+--------------+-----------+--------+-------+\n",
      "\n"
     ]
    }
   ],
   "source": [
    "## Addomg columns in dataframe\n",
    "df_2 = df_pyspark.withColumn('Balance',df_pyspark['Account_number']/100)\n",
    "df_2.show()"
   ]
  },
  {
   "cell_type": "code",
   "execution_count": 33,
   "metadata": {},
   "outputs": [],
   "source": [
    "## drop the column\n",
    "df_3 = df_2.drop('Balance')\n"
   ]
  },
  {
   "cell_type": "code",
   "execution_count": 34,
   "metadata": {},
   "outputs": [
    {
     "name": "stdout",
     "output_type": "stream",
     "text": [
      "+--------------+-----------+--------+\n",
      "|Account_number|Postal_Code|Province|\n",
      "+--------------+-----------+--------+\n",
      "|        283285|     M2N2A2|      ON|\n",
      "|        973525|     V5A4A6|      BC|\n",
      "|        736823|     B6N8M3|      NS|\n",
      "|        160186|     T1K4X5|      AB|\n",
      "|        384623|     L6A3C5|      ON|\n",
      "|        164623|     A1A2B2|      NL|\n",
      "|        864302|     K1A4V5|      ON|\n",
      "|        321247|     V1A9J2|      BC|\n",
      "|        459804|     T6W4B4|      AB|\n",
      "+--------------+-----------+--------+\n",
      "\n"
     ]
    }
   ],
   "source": [
    "df_3.show()"
   ]
  },
  {
   "cell_type": "code",
   "execution_count": null,
   "metadata": {},
   "outputs": [],
   "source": [
    "# renaming columns\n"
   ]
  }
 ],
 "metadata": {
  "kernelspec": {
   "display_name": "Python 3.10.6 ('spark')",
   "language": "python",
   "name": "python3"
  },
  "language_info": {
   "codemirror_mode": {
    "name": "ipython",
    "version": 3
   },
   "file_extension": ".py",
   "mimetype": "text/x-python",
   "name": "python",
   "nbconvert_exporter": "python",
   "pygments_lexer": "ipython3",
   "version": "3.10.6"
  },
  "orig_nbformat": 4,
  "vscode": {
   "interpreter": {
    "hash": "b3452821402930f48c6036e8dcbe161cb227a3b95bec4f6ea3973340d2947348"
   }
  }
 },
 "nbformat": 4,
 "nbformat_minor": 2
}
