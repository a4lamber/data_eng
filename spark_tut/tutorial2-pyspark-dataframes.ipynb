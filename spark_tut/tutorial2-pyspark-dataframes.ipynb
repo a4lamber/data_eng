{
 "cells": [
  {
   "cell_type": "markdown",
   "metadata": {},
   "source": [
    "In this video, we will cover\n",
    "- pyspark\n",
    "- reading the dataset\n",
    "- checking the datatypes of the column (schema)\n",
    "- selecting columns and indexing\n",
    "- check describe similar to pandas\n",
    "- adding columns\n",
    "- dropping columns"
   ]
  },
  {
   "cell_type": "code",
   "execution_count": 1,
   "metadata": {},
   "outputs": [],
   "source": [
    "from pyspark.sql import SparkSession\n"
   ]
  },
  {
   "cell_type": "code",
   "execution_count": 3,
   "metadata": {},
   "outputs": [
    {
     "data": {
      "text/html": [
       "\n",
       "            <div>\n",
       "                <p><b>SparkSession - in-memory</b></p>\n",
       "                \n",
       "        <div>\n",
       "            <p><b>SparkContext</b></p>\n",
       "\n",
       "            <p><a href=\"http://192.168.2.205:4040\">Spark UI</a></p>\n",
       "\n",
       "            <dl>\n",
       "              <dt>Version</dt>\n",
       "                <dd><code>v3.1.2</code></dd>\n",
       "              <dt>Master</dt>\n",
       "                <dd><code>local[*]</code></dd>\n",
       "              <dt>AppName</dt>\n",
       "                <dd><code>Dataframe</code></dd>\n",
       "            </dl>\n",
       "        </div>\n",
       "        \n",
       "            </div>\n",
       "        "
      ],
      "text/plain": [
       "<pyspark.sql.session.SparkSession at 0x7fa7796e2710>"
      ]
     },
     "execution_count": 3,
     "metadata": {},
     "output_type": "execute_result"
    }
   ],
   "source": [
    "# one master node if u running local\n",
    "spark = SparkSession.builder.appName('Dataframe').getOrCreate()\n",
    "spark"
   ]
  },
  {
   "cell_type": "code",
   "execution_count": 7,
   "metadata": {},
   "outputs": [
    {
     "name": "stdout",
     "output_type": "stream",
     "text": [
      "+--------------+-----------+--------+\n",
      "|Account_number|Postal_Code|Province|\n",
      "+--------------+-----------+--------+\n",
      "|        283285|     M2N2A2|      ON|\n",
      "|        973525|     V5A4A6|      BC|\n",
      "|        736823|     B6N8M3|      NS|\n",
      "|        160186|     T1K4X5|      AB|\n",
      "|        384623|     L6A3C5|      ON|\n",
      "|        164623|     A1A2B2|      NL|\n",
      "|        864302|     K1A4V5|      ON|\n",
      "|        321247|     V1A9J2|      BC|\n",
      "|        459804|     T6W4B4|      AB|\n",
      "+--------------+-----------+--------+\n",
      "\n"
     ]
    }
   ],
   "source": [
    "## read the dataset\n",
    "df_pyspark = spark.read.option('header','true').csv('customer_contact_info.csv')\n",
    "df_pyspark.show()"
   ]
  },
  {
   "cell_type": "code",
   "execution_count": null,
   "metadata": {},
   "outputs": [],
   "source": [
    "### Check the schema (和df.info一样)\n"
   ]
  }
 ],
 "metadata": {
  "kernelspec": {
   "display_name": "Python 3.10.6 ('spark')",
   "language": "python",
   "name": "python3"
  },
  "language_info": {
   "codemirror_mode": {
    "name": "ipython",
    "version": 3
   },
   "file_extension": ".py",
   "mimetype": "text/x-python",
   "name": "python",
   "nbconvert_exporter": "python",
   "pygments_lexer": "ipython3",
   "version": "3.10.6"
  },
  "orig_nbformat": 4,
  "vscode": {
   "interpreter": {
    "hash": "b3452821402930f48c6036e8dcbe161cb227a3b95bec4f6ea3973340d2947348"
   }
  }
 },
 "nbformat": 4,
 "nbformat_minor": 2
}
